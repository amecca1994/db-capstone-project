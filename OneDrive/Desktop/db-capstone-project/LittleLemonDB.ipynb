{
 "cells": [
  {
   "cell_type": "code",
   "execution_count": 2,
   "id": "5bf1f61e-9a71-4739-979b-f529ba12657f",
   "metadata": {},
   "outputs": [],
   "source": [
    "import mysql.connector as connector"
   ]
  },
  {
   "cell_type": "code",
   "execution_count": 10,
   "id": "f1793c6e-a074-4912-97f9-ad493aa905d0",
   "metadata": {},
   "outputs": [
    {
     "name": "stdout",
     "output_type": "stream",
     "text": [
      "Collecting mysql-connector-python\n",
      "  Downloading mysql_connector_python-9.1.0-cp312-cp312-win_amd64.whl.metadata (6.2 kB)\n",
      "Downloading mysql_connector_python-9.1.0-cp312-cp312-win_amd64.whl (16.1 MB)\n",
      "   ---------------------------------------- 0.0/16.1 MB ? eta -:--:--\n",
      "   -------------- ------------------------- 5.8/16.1 MB 35.3 MB/s eta 0:00:01\n",
      "   ---------------------------------------  16.0/16.1 MB 43.7 MB/s eta 0:00:01\n",
      "   ---------------------------------------- 16.1/16.1 MB 36.1 MB/s eta 0:00:00\n",
      "Installing collected packages: mysql-connector-python\n",
      "Successfully installed mysql-connector-python-9.1.0\n",
      "Note: you may need to restart the kernel to use updated packages.\n"
     ]
    }
   ],
   "source": [
    "pip install mysql-connector-python"
   ]
  },
  {
   "cell_type": "code",
   "execution_count": 1,
   "id": "6c1dd86a-431b-44e5-ac38-aa72abb2e365",
   "metadata": {},
   "outputs": [],
   "source": [
    "import mysql.connector as connector"
   ]
  },
  {
   "cell_type": "code",
   "execution_count": 3,
   "id": "d81a272c-7054-4506-88eb-f049688ca1b4",
   "metadata": {},
   "outputs": [],
   "source": [
    "connection = connector.connect(user = \"Austin\", password = \"Rangers2021!\", db = \"LittleLemonDB\")"
   ]
  },
  {
   "cell_type": "code",
   "execution_count": 15,
   "id": "1db24734-d49c-451a-96e5-c36b298e9d3b",
   "metadata": {},
   "outputs": [],
   "source": [
    "cursor = connection.cursor(buffered=True)"
   ]
  },
  {
   "cell_type": "code",
   "execution_count": 21,
   "id": "05d1046b-3546-40c1-80ef-7f0e146953c2",
   "metadata": {},
   "outputs": [],
   "source": [
    "show_tables_query = \"SHOW tables FROM LittleLemonDB;\" \n",
    "cursor.execute(show_tables_query)"
   ]
  },
  {
   "cell_type": "code",
   "execution_count": 25,
   "id": "ede3fa77-24df-4d8a-80ce-f9af39219c43",
   "metadata": {},
   "outputs": [],
   "source": [
    "results = cursor.fetchall()"
   ]
  },
  {
   "cell_type": "code",
   "execution_count": 41,
   "id": "e6fe4141-ad21-4f67-8908-34b3e7326897",
   "metadata": {},
   "outputs": [],
   "source": [
    "query_stmt = \"\"\"\n",
    "SELECT customer_details.Customer_Names, customer_details.Customer_ID, orders.Total_Cost AS `BillAmount`\n",
    "FROM customer_details\n",
    "JOIN orders\n",
    "ON customer_details.Order_ID = orders.Order_ID\n",
    "WHERE orders.Total_Cost > 60;\n",
    "\"\"\""
   ]
  },
  {
   "cell_type": "code",
   "execution_count": 43,
   "id": "db7ff376-f1a9-48e3-94a6-1c262a8ec5d2",
   "metadata": {},
   "outputs": [],
   "source": [
    "cursor.execute(query_stmt)\n",
    "results = cursor.fetchall()"
   ]
  },
  {
   "cell_type": "code",
   "execution_count": 46,
   "id": "dc3c929d-ce1c-47a6-bebd-82f512833784",
   "metadata": {},
   "outputs": [],
   "source": [
    "cursor.close()\n",
    "connection.close()"
   ]
  },
  {
   "cell_type": "code",
   "execution_count": null,
   "id": "d322a848-1658-4508-848d-f8fe987bc406",
   "metadata": {},
   "outputs": [],
   "source": []
  }
 ],
 "metadata": {
  "kernelspec": {
   "display_name": "Python 3 (ipykernel)",
   "language": "python",
   "name": "python3"
  },
  "language_info": {
   "codemirror_mode": {
    "name": "ipython",
    "version": 3
   },
   "file_extension": ".py",
   "mimetype": "text/x-python",
   "name": "python",
   "nbconvert_exporter": "python",
   "pygments_lexer": "ipython3",
   "version": "3.12.7"
  }
 },
 "nbformat": 4,
 "nbformat_minor": 5
}
